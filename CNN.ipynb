{
 "cells": [
  {
   "cell_type": "code",
   "execution_count": 1,
   "id": "7036be49",
   "metadata": {},
   "outputs": [],
   "source": [
    "from keras.models import Sequential\n",
    "from keras.layers import Convolution2D\n",
    "from keras.layers import MaxPooling2D\n",
    "from keras.layers import Flatten\n",
    "from keras.layers import Dense "
   ]
  },
  {
   "cell_type": "code",
   "execution_count": 1,
   "id": "97f5f989",
   "metadata": {},
   "outputs": [],
   "source": [
    "import tensorflow as tf\n",
    "from keras.preprocessing.image import ImageDataGenerator"
   ]
  },
  {
   "cell_type": "code",
   "execution_count": 2,
   "id": "09588de2",
   "metadata": {},
   "outputs": [
    {
     "name": "stdout",
     "output_type": "stream",
     "text": [
      "Found 8000 images belonging to 2 classes.\n"
     ]
    }
   ],
   "source": [
    "# proprocessing et générer des nouvel image pour le train_set\n",
    "train_datagen = ImageDataGenerator(rescale = 1./255,\n",
    "                                 shear_range = 0.2,\n",
    "                                   zoom_range = 0.2,\n",
    "                                   horizontal_flip = True)\n",
    "training_set = train_datagen.flow_from_directory('C:/Users/yazid/OneDrive/Bureau/Formation/P16-Convolutional-Neural-Networks/Part 2 - Convolutional Neural Networks/dataset/training_set',\n",
    "                                                 target_size = (64, 64),\n",
    "                                                 batch_size = 32,\n",
    "                                                 class_mode = 'binary')"
   ]
  },
  {
   "cell_type": "code",
   "execution_count": 3,
   "id": "618c90bf",
   "metadata": {},
   "outputs": [
    {
     "name": "stdout",
     "output_type": "stream",
     "text": [
      "Found 2000 images belonging to 2 classes.\n"
     ]
    }
   ],
   "source": [
    "test_datagen = ImageDataGenerator(rescale = 1./255)\n",
    "test_set = test_datagen.flow_from_directory('C:/Users/yazid/OneDrive/Bureau/Formation/P16-Convolutional-Neural-Networks/Part 2 - Convolutional Neural Networks/dataset/test_set',\n",
    "                                            target_size = (64, 64),\n",
    "                                            batch_size = 32,\n",
    "                                            class_mode = 'binary')"
   ]
  },
  {
   "cell_type": "code",
   "execution_count": 4,
   "id": "058d7eb8",
   "metadata": {},
   "outputs": [],
   "source": [
    "#initialiser le CNN\n",
    "cnn = tf.keras.models.Sequential()"
   ]
  },
  {
   "cell_type": "code",
   "execution_count": 5,
   "id": "2b39e2b3",
   "metadata": {},
   "outputs": [],
   "source": [
    "# 1 etape convolution \n",
    "cnn.add(tf.keras.layers.Conv2D(filters=32, kernel_size=3, \n",
    "                               activation='relu',\n",
    "                               input_shape=[64, 64, 3]))"
   ]
  },
  {
   "cell_type": "code",
   "execution_count": 6,
   "id": "c8b27717",
   "metadata": {},
   "outputs": [],
   "source": [
    "# 2 etape Pooling \n",
    "cnn.add(tf.keras.layers.MaxPool2D(pool_size=2, strides=2))"
   ]
  },
  {
   "cell_type": "code",
   "execution_count": 7,
   "id": "7c92a443",
   "metadata": {},
   "outputs": [],
   "source": [
    "# ajouter une couche de convolution ---\n",
    "cnn.add(tf.keras.layers.Conv2D(filters=32, kernel_size=3, activation='relu'))\n",
    "cnn.add(tf.keras.layers.MaxPool2D(pool_size=2, strides=2))"
   ]
  },
  {
   "cell_type": "code",
   "execution_count": 8,
   "id": "3193acd3",
   "metadata": {},
   "outputs": [],
   "source": [
    "# 3 etape flattening \n",
    "cnn.add(tf.keras.layers.Flatten())"
   ]
  },
  {
   "cell_type": "code",
   "execution_count": 9,
   "id": "4ba1e10e",
   "metadata": {},
   "outputs": [],
   "source": [
    "# 4 etape ajouter une couche complétement connecté \n",
    "cnn.add(tf.keras.layers.Dense(units=128,activation=\"relu\"))"
   ]
  },
  {
   "cell_type": "code",
   "execution_count": 10,
   "id": "b0a08344",
   "metadata": {},
   "outputs": [],
   "source": [
    "# 5 couche de sortie \n",
    "cnn.add(tf.keras.layers.Dense(units=1, activation='sigmoid'))"
   ]
  },
  {
   "cell_type": "code",
   "execution_count": 11,
   "id": "e365c198",
   "metadata": {},
   "outputs": [],
   "source": [
    "# Compilation \n",
    "cnn.compile(optimizer=\"adam\",loss=\"binary_crossentropy\",metrics=[\"accuracy\"])#plus de deux cathégorie il faut choisir l errerur cathégorie binary"
   ]
  },
  {
   "cell_type": "code",
   "execution_count": null,
   "id": "2acc432a",
   "metadata": {},
   "outputs": [],
   "source": [
    "# entrainer le CNN \n",
    "cnn.fit(training_set,\n",
    "                  steps_per_epoch= 250,\n",
    "                  epochs = 25,\n",
    "                  validation_data = test_set, \n",
    "                  validation_steps= 63\n",
    "                 )"
   ]
  },
  {
   "cell_type": "markdown",
   "id": "913c3a5d",
   "metadata": {},
   "source": [
    "# Test sur d'autre image "
   ]
  },
  {
   "cell_type": "code",
   "execution_count": null,
   "id": "9c0e5140",
   "metadata": {},
   "outputs": [],
   "source": [
    "import numpy as np\n",
    "from keras.preprocessing import image"
   ]
  },
  {
   "cell_type": "code",
   "execution_count": null,
   "id": "875c00cd",
   "metadata": {},
   "outputs": [],
   "source": [
    "test_image = image.load_img('C:/Users/yazid/OneDrive/Bureau/Formation/P16-Convolutional-Neural-Networks/Part 2 - Convolutional Neural Networks/dataset/single_prediction/cat_or_dog_1.jpg',\n",
    "                        target_size = (64, 64))\n",
    "test_image = image.img_to_array(test_image)\n",
    "test_image = np.expand_dims(test_image, axis = 0)\n",
    "result = cnn.predict(test_image)\n",
    "training_set.class_indices\n",
    "if result[0][0] == 1:\n",
    "    prediction = 'dog'\n",
    "else:\n",
    "    prediction = 'cat'"
   ]
  },
  {
   "cell_type": "markdown",
   "id": "30f9f635",
   "metadata": {},
   "source": [
    "# Evaluer ,améliorer et ajuster le cnn "
   ]
  },
  {
   "cell_type": "code",
   "execution_count": null,
   "id": "d2904882",
   "metadata": {},
   "outputs": [],
   "source": []
  }
 ],
 "metadata": {
  "kernelspec": {
   "display_name": "Python 3 (ipykernel)",
   "language": "python",
   "name": "python3"
  },
  "language_info": {
   "codemirror_mode": {
    "name": "ipython",
    "version": 3
   },
   "file_extension": ".py",
   "mimetype": "text/x-python",
   "name": "python",
   "nbconvert_exporter": "python",
   "pygments_lexer": "ipython3",
   "version": "3.8.16"
  }
 },
 "nbformat": 4,
 "nbformat_minor": 5
}
